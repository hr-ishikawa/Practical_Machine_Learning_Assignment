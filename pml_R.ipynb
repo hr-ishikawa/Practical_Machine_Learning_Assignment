{
 "cells": [
  {
   "cell_type": "code",
   "execution_count": 1,
   "metadata": {},
   "outputs": [
    {
     "name": "stderr",
     "output_type": "stream",
     "text": [
      "Registered S3 methods overwritten by 'ggplot2':\n",
      "  method         from \n",
      "  [.quosures     rlang\n",
      "  c.quosures     rlang\n",
      "  print.quosures rlang\n",
      "-- \u001b[1mAttaching packages\u001b[22m --------------------------------------- tidyverse 1.2.1 --\n",
      "\u001b[32m√\u001b[39m \u001b[34mggplot2\u001b[39m 3.1.1     \u001b[32m√\u001b[39m \u001b[34mpurrr  \u001b[39m 0.3.2\n",
      "\u001b[32m√\u001b[39m \u001b[34mtibble \u001b[39m 2.1.1     \u001b[32m√\u001b[39m \u001b[34mdplyr  \u001b[39m 0.8.1\n",
      "\u001b[32m√\u001b[39m \u001b[34mtidyr  \u001b[39m 0.8.3     \u001b[32m√\u001b[39m \u001b[34mstringr\u001b[39m 1.4.0\n",
      "\u001b[32m√\u001b[39m \u001b[34mreadr  \u001b[39m 1.3.1     \u001b[32m√\u001b[39m \u001b[34mforcats\u001b[39m 0.4.0\n",
      "-- \u001b[1mConflicts\u001b[22m ------------------------------------------ tidyverse_conflicts() --\n",
      "\u001b[31mx\u001b[39m \u001b[34mdplyr\u001b[39m::\u001b[32mfilter()\u001b[39m masks \u001b[34mstats\u001b[39m::filter()\n",
      "\u001b[31mx\u001b[39m \u001b[34mdplyr\u001b[39m::\u001b[32mlag()\u001b[39m    masks \u001b[34mstats\u001b[39m::lag()\n",
      "Loading required package: lattice\n",
      "\n",
      "Attaching package: 'caret'\n",
      "\n",
      "The following object is masked from 'package:purrr':\n",
      "\n",
      "    lift\n",
      "\n",
      "randomForest 4.6-14\n",
      "Type rfNews() to see new features/changes/bug fixes.\n",
      "\n",
      "Attaching package: 'randomForest'\n",
      "\n",
      "The following object is masked from 'package:dplyr':\n",
      "\n",
      "    combine\n",
      "\n",
      "The following object is masked from 'package:ggplot2':\n",
      "\n",
      "    margin\n",
      "\n",
      "Loading required package: foreach\n",
      "\n",
      "Attaching package: 'foreach'\n",
      "\n",
      "The following objects are masked from 'package:purrr':\n",
      "\n",
      "    accumulate, when\n",
      "\n",
      "Loading required package: iterators\n",
      "Loading required package: parallel\n"
     ]
    },
    {
     "data": {
      "text/html": [
       "'R version 3.6.0 Patched (2019-04-28 r76433)'"
      ],
      "text/latex": [
       "'R version 3.6.0 Patched (2019-04-28 r76433)'"
      ],
      "text/markdown": [
       "'R version 3.6.0 Patched (2019-04-28 r76433)'"
      ],
      "text/plain": [
       "[1] \"R version 3.6.0 Patched (2019-04-28 r76433)\""
      ]
     },
     "metadata": {},
     "output_type": "display_data"
    },
    {
     "name": "stdout",
     "output_type": "stream",
     "text": [
      "[1] tidyverse: 1.2.1,      caret: 6.0.84,         randomForest: 4.6.14,  e1071: 1.7.1,         \n"
     ]
    }
   ],
   "source": [
    "library(tidyverse)\n",
    "library(caret)\n",
    "library(randomForest)\n",
    "library(e1071)\n",
    "library(doParallel)\n",
    "\n",
    "options(digits=5)\n",
    "options(warn=-1)\n",
    "options(width=100)\n",
    "\n",
    "R.Version()$version.string\n",
    "print(map_chr(c('tidyverse','caret','randomForest','e1071'),\n",
    "              function(x){paste(x,': ',packageVersion(x),', ',sep='')}), quote=F)"
   ]
  },
  {
   "cell_type": "code",
   "execution_count": 2,
   "metadata": {
    "scrolled": false
   },
   "outputs": [
    {
     "name": "stderr",
     "output_type": "stream",
     "text": [
      "Parsed with column specification:\n",
      "cols(\n",
      "  .default = col_double(),\n",
      "  user_name = \u001b[31mcol_character()\u001b[39m,\n",
      "  cvtd_timestamp = \u001b[31mcol_character()\u001b[39m,\n",
      "  new_window = \u001b[31mcol_character()\u001b[39m,\n",
      "  kurtosis_roll_belt = \u001b[31mcol_character()\u001b[39m,\n",
      "  kurtosis_picth_belt = \u001b[31mcol_character()\u001b[39m,\n",
      "  kurtosis_yaw_belt = \u001b[31mcol_character()\u001b[39m,\n",
      "  skewness_roll_belt = \u001b[31mcol_character()\u001b[39m,\n",
      "  skewness_roll_belt.1 = \u001b[31mcol_character()\u001b[39m,\n",
      "  skewness_yaw_belt = \u001b[31mcol_character()\u001b[39m,\n",
      "  max_yaw_belt = \u001b[31mcol_character()\u001b[39m,\n",
      "  min_yaw_belt = \u001b[31mcol_character()\u001b[39m,\n",
      "  amplitude_yaw_belt = \u001b[31mcol_character()\u001b[39m,\n",
      "  kurtosis_picth_arm = \u001b[31mcol_character()\u001b[39m,\n",
      "  kurtosis_yaw_arm = \u001b[31mcol_character()\u001b[39m,\n",
      "  skewness_pitch_arm = \u001b[31mcol_character()\u001b[39m,\n",
      "  skewness_yaw_arm = \u001b[31mcol_character()\u001b[39m,\n",
      "  kurtosis_yaw_dumbbell = \u001b[31mcol_character()\u001b[39m,\n",
      "  skewness_yaw_dumbbell = \u001b[31mcol_character()\u001b[39m,\n",
      "  kurtosis_roll_forearm = \u001b[31mcol_character()\u001b[39m,\n",
      "  kurtosis_picth_forearm = \u001b[31mcol_character()\u001b[39m\n",
      "  # ... with 8 more columns\n",
      ")\n",
      "See spec(...) for full column specifications.\n",
      "Parsed with column specification:\n",
      "cols(\n",
      "  .default = col_logical(),\n",
      "  X1 = \u001b[32mcol_double()\u001b[39m,\n",
      "  user_name = \u001b[31mcol_character()\u001b[39m,\n",
      "  raw_timestamp_part_1 = \u001b[32mcol_double()\u001b[39m,\n",
      "  raw_timestamp_part_2 = \u001b[32mcol_double()\u001b[39m,\n",
      "  cvtd_timestamp = \u001b[31mcol_character()\u001b[39m,\n",
      "  new_window = \u001b[31mcol_character()\u001b[39m,\n",
      "  num_window = \u001b[32mcol_double()\u001b[39m,\n",
      "  roll_belt = \u001b[32mcol_double()\u001b[39m,\n",
      "  pitch_belt = \u001b[32mcol_double()\u001b[39m,\n",
      "  yaw_belt = \u001b[32mcol_double()\u001b[39m,\n",
      "  total_accel_belt = \u001b[32mcol_double()\u001b[39m,\n",
      "  gyros_belt_x = \u001b[32mcol_double()\u001b[39m,\n",
      "  gyros_belt_y = \u001b[32mcol_double()\u001b[39m,\n",
      "  gyros_belt_z = \u001b[32mcol_double()\u001b[39m,\n",
      "  accel_belt_x = \u001b[32mcol_double()\u001b[39m,\n",
      "  accel_belt_y = \u001b[32mcol_double()\u001b[39m,\n",
      "  accel_belt_z = \u001b[32mcol_double()\u001b[39m,\n",
      "  magnet_belt_x = \u001b[32mcol_double()\u001b[39m,\n",
      "  magnet_belt_y = \u001b[32mcol_double()\u001b[39m,\n",
      "  magnet_belt_z = \u001b[32mcol_double()\u001b[39m\n",
      "  # ... with 40 more columns\n",
      ")\n",
      "See spec(...) for full column specifications.\n"
     ]
    }
   ],
   "source": [
    "#============================\n",
    "# Read Data\n",
    "\n",
    "train <- read_csv('pml-training.csv')\n",
    "test  <- read_csv('pml-testing.csv' )"
   ]
  },
  {
   "cell_type": "code",
   "execution_count": 3,
   "metadata": {
    "scrolled": false
   },
   "outputs": [
    {
     "name": "stdout",
     "output_type": "stream",
     "text": [
      "[1] 55\n"
     ]
    }
   ],
   "source": [
    "#============================\n",
    "# Pre Process Sample Date\n",
    "\n",
    "train <- train %>% mutate(flag='train')\n",
    "test  <- test  %>% mutate(flag='test' ) %>% \n",
    "          mutate(problem_id=as.character(problem_id)) %>% rename(classe=problem_id)\n",
    "\n",
    "all  <- bind_rows(train,test) %>% select(names(train)[-c(1,3:7)])\n",
    "drop <- map_lgl(all[,2:153], function(c){ any(is.na(c))} )      # Drop columns contain NA\n",
    "all <- all[, c(T,!drop,T,T)]\n",
    "print(ncol(all))\n",
    "\n",
    "train <- all %>% filter(flag=='train') %>% select(-flag) %>% mutate(classe=factor(classe))\n",
    "test  <- all %>% filter(flag=='test')  %>% select(-flag)"
   ]
  },
  {
   "cell_type": "code",
   "execution_count": 4,
   "metadata": {},
   "outputs": [],
   "source": [
    "#============================\n",
    "# Split Training Data to train, valid\n",
    "\n",
    "index <- createDataPartition(train$classe, p=0.8, list=F, times=1)\n",
    "train.t <- train[ index,]\n",
    "train.v <- train[-index,]"
   ]
  },
  {
   "cell_type": "code",
   "execution_count": 5,
   "metadata": {},
   "outputs": [],
   "source": [
    "#============================\n",
    "# Fit randomForest\n",
    "# Change the number of samples and observe the errors that in and out of sample\n",
    "\n",
    "accu <- data.frame()\n",
    "for(i in c(5,10,15,20,30,50,100)){ # Percent of Test set\n",
    "    set.seed(0)\n",
    "    index <- createDataPartition(train.t$classe, p=i/100, list=F, times=1)\n",
    "    train.x <- train.t[ index,]\n",
    "\n",
    "        cl <- makeCluster(detectCores()) # for Parallel processing\n",
    "        registerDoParallel(cl)           #\n",
    "    #-- Fit ----\n",
    "    modFit <- train(classe~., method='rf', data=train.x,\n",
    "                    trControl=trainControl(method = 'cv', number=10))\n",
    "    #-----------\n",
    "        stopCluster(cl)                 #\n",
    "\n",
    "    # Accuracy fitted in sample\n",
    "    x <- confusionMatrix(predict(modFit,newdata=train.x), train.x$classe)\n",
    "    # Accuracy out of sample\n",
    "    v <- confusionMatrix(predict(modFit,newdata=train.v), train.v$classe)\n",
    "\n",
    "    accu <- bind_rows(accu, \n",
    "                      data.frame(n_samples =nrow(train.x),\n",
    "                                 x_accu=x$overall['Accuracy'], \n",
    "                                 v_accu=v$overall['Accuracy']))\n",
    "}"
   ]
  },
  {
   "cell_type": "code",
   "execution_count": 6,
   "metadata": {},
   "outputs": [
    {
     "name": "stdout",
     "output_type": "stream",
     "text": [
      "  n_samples x_accu  v_accu\n",
      "1       787      1 0.89396\n",
      "2      1572      1 0.93500\n",
      "3      2356      1 0.95463\n",
      "4      3142      1 0.96992\n",
      "5      4712      1 0.97476\n",
      "6      7850      1 0.98700\n",
      "7     15699      1 0.99541\n",
      "\n",
      "== In Sample ======== Accuracy and ConfusionMatrix\n",
      "Accuracy \n",
      "       1 \n",
      "          Reference\n",
      "Prediction    A    B    C    D    E\n",
      "         A 4464    0    0    0    0\n",
      "         B    0 3038    0    0    0\n",
      "         C    0    0 2738    0    0\n",
      "         D    0    0    0 2573    0\n",
      "         E    0    0    0    0 2886\n",
      "\n",
      "== Out of Sample ==== Accuracy and ConfusionMatrix\n",
      "Accuracy \n",
      " 0.99541 \n",
      "          Reference\n",
      "Prediction    A    B    C    D    E\n",
      "         A 1115    4    0    0    0\n",
      "         B    1  754    2    0    0\n",
      "         C    0    1  679    3    2\n",
      "         D    0    0    3  639    1\n",
      "         E    0    0    0    1  718\n"
     ]
    }
   ],
   "source": [
    "#============================\n",
    "# Validate Model\n",
    "\n",
    "print(accu)\n",
    "cat('\\n== In Sample ======== Accuracy and ConfusionMatrix\\n')\n",
    "print(x$overall['Accuracy'])\n",
    "print(x$table)\n",
    "cat('\\n== Out of Sample ==== Accuracy and ConfusionMatrix\\n')\n",
    "print(v$overall['Accuracy'])\n",
    "print(v$table)"
   ]
  },
  {
   "cell_type": "code",
   "execution_count": 7,
   "metadata": {
    "scrolled": false
   },
   "outputs": [
    {
     "data": {
      "image/png": "[encoded data removed]",
      "text/plain": [
       "plot without title"
      ]
     },
     "metadata": {},
     "output_type": "display_data"
    }
   ],
   "source": [
    "#============================\n",
    "# Visualize\n",
    "\n",
    "p <- ggplot(accu, aes(x=n_samples)) +\n",
    "     geom_line(aes(y=x_accu, colour='in Sample' ) ) +\n",
    "     geom_line(aes(y=v_accu, colour='out of Sample') ) +\n",
    "     scale_colour_manual('Accuracy', values=c('in Sample'='blue', 'out of Sample'='red')) +\n",
    "     labs(title='The in/out of samples errors and number of samples',\n",
    "          x='Number of Samples', y='Accuracy')\n",
    "plot(p)"
   ]
  },
  {
   "cell_type": "code",
   "execution_count": 8,
   "metadata": {},
   "outputs": [
    {
     "name": "stdout",
     "output_type": "stream",
     "text": [
      " [1] B A B A A E D B A A B C B A E E A B B B\n",
      "Levels: A B C D E\n"
     ]
    }
   ],
   "source": [
    "#============================\n",
    "# Predict from Test set\n",
    "\n",
    "pred <- predict(modFit, newdata=test)\n",
    "print(pred)"
   ]
  }
 ],
 "metadata": {
  "kernelspec": {
   "display_name": "R",
   "language": "R",
   "name": "ir"
  },
  "language_info": {
   "codemirror_mode": "r",
   "file_extension": ".r",
   "mimetype": "text/x-r-source",
   "name": "R",
   "pygments_lexer": "r",
   "version": "3.6.0"
  }
 },
 "nbformat": 4,
 "nbformat_minor": 2
}
